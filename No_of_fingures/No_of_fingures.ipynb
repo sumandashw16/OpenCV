{
 "cells": [
  {
   "cell_type": "markdown",
   "id": "55f4ad00",
   "metadata": {},
   "source": [
    "# Counting the numbers of fingures up!"
   ]
  },
  {
   "cell_type": "code",
   "execution_count": 1,
   "id": "3ab77418",
   "metadata": {},
   "outputs": [],
   "source": [
    "import cv2\n",
    "from cvzone.HandTrackingModule import HandDetector"
   ]
  },
  {
   "cell_type": "code",
   "execution_count": 2,
   "id": "eaed9e7e",
   "metadata": {},
   "outputs": [],
   "source": [
    "cap = cv2.VideoCapture(0)\n",
    "detector = HandDetector(detectionCon=0.1,maxHands=2)\n",
    "\n",
    "while cap.isOpened():\n",
    "    success,frame = cap.read()\n",
    "    frame = cv2.flip(frame,1)\n",
    "    # frame = cv2.resize(frame,(1700,800))\n",
    "    frame = cv2.resize(frame,(800,600))\n",
    "\n",
    "    hands, frame = detector.findHands(frame)\n",
    "\n",
    "    if hands:\n",
    "        hand = hands[0]\n",
    "        fingers = detector.fingersUp(hand)\n",
    "        totalFing = fingers.count(1)\n",
    "        cv2.putText(frame,f\"No. of fingures up are: {totalFing}\",(200,70),fontFace=cv2.FONT_HERSHEY_DUPLEX,fontScale=1,color=(0,0,255),thickness=2,lineType=4)\n",
    "    cv2.imshow(\"finger detection\", frame)\n",
    "    if cv2.waitKey(1) & 0xff == ord(\"q\"):\n",
    "        break\n",
    "\n",
    "cap.release()\n",
    "cv2.destroyAllWindows()"
   ]
  }
 ],
 "metadata": {
  "kernelspec": {
   "display_name": "env",
   "language": "python",
   "name": "python3"
  },
  "language_info": {
   "codemirror_mode": {
    "name": "ipython",
    "version": 3
   },
   "file_extension": ".py",
   "mimetype": "text/x-python",
   "name": "python",
   "nbconvert_exporter": "python",
   "pygments_lexer": "ipython3",
   "version": "3.8.10"
  }
 },
 "nbformat": 4,
 "nbformat_minor": 5
}
